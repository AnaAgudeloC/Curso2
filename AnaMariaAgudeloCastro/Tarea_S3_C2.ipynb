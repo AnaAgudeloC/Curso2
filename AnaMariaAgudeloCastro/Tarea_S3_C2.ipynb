{
  "nbformat": 4,
  "nbformat_minor": 0,
  "metadata": {
    "colab": {
      "provenance": []
    },
    "kernelspec": {
      "name": "python3",
      "display_name": "Python 3"
    },
    "language_info": {
      "name": "python"
    }
  },
  "cells": [
    {
      "cell_type": "code",
      "execution_count": 1,
      "metadata": {
        "id": "w0qhrF3sgkry"
      },
      "outputs": [],
      "source": [
        "from sklearn.pipeline import Pipeline\n",
        "from sklearn.pipeline import make_pipeline\n",
        "from sklearn.model_selection import train_test_split\n",
        "from sklearn.datasets import load_iris\n",
        "from sklearn.linear_model import LogisticRegression\n",
        "from sklearn.preprocessing import StandardScaler\n",
        "from sklearn.decomposition import PCA\n",
        "from sklearn.tree import DecisionTreeClassifier"
      ]
    },
    {
      "cell_type": "code",
      "source": [
        "data = load_iris()\n",
        "X_train,X_test,y_train,y_test = train_test_split(data.data,data.target,test_size=0.2)"
      ],
      "metadata": {
        "id": "2XpsfRr4hcW6"
      },
      "execution_count": 2,
      "outputs": []
    },
    {
      "cell_type": "code",
      "source": [
        "X_train.shape"
      ],
      "metadata": {
        "colab": {
          "base_uri": "https://localhost:8080/"
        },
        "id": "VkkDds4Uhc4r",
        "outputId": "4a83e4aa-61b3-40ed-c60c-c748761045b9"
      },
      "execution_count": 3,
      "outputs": [
        {
          "output_type": "execute_result",
          "data": {
            "text/plain": [
              "(120, 4)"
            ]
          },
          "metadata": {},
          "execution_count": 3
        }
      ]
    },
    {
      "cell_type": "code",
      "source": [
        "X_test"
      ],
      "metadata": {
        "colab": {
          "base_uri": "https://localhost:8080/"
        },
        "id": "Cxrog9g-hemv",
        "outputId": "c80433b8-668d-4376-ce17-15302fcc3bcc"
      },
      "execution_count": 4,
      "outputs": [
        {
          "output_type": "execute_result",
          "data": {
            "text/plain": [
              "array([[6.8, 3.2, 5.9, 2.3],\n",
              "       [6.1, 2.6, 5.6, 1.4],\n",
              "       [5.2, 3.5, 1.5, 0.2],\n",
              "       [5.1, 3.3, 1.7, 0.5],\n",
              "       [5.7, 4.4, 1.5, 0.4],\n",
              "       [6.9, 3.2, 5.7, 2.3],\n",
              "       [6.7, 3.1, 4.7, 1.5],\n",
              "       [5.4, 3.4, 1.7, 0.2],\n",
              "       [6.5, 3. , 5.2, 2. ],\n",
              "       [4.9, 2.5, 4.5, 1.7],\n",
              "       [4.6, 3.2, 1.4, 0.2],\n",
              "       [5.7, 2.6, 3.5, 1. ],\n",
              "       [5.7, 3.8, 1.7, 0.3],\n",
              "       [5. , 3. , 1.6, 0.2],\n",
              "       [4.7, 3.2, 1.3, 0.2],\n",
              "       [5.5, 2.5, 4. , 1.3],\n",
              "       [6. , 2.9, 4.5, 1.5],\n",
              "       [7.2, 3.2, 6. , 1.8],\n",
              "       [6.4, 2.7, 5.3, 1.9],\n",
              "       [5.1, 2.5, 3. , 1.1],\n",
              "       [5.8, 2.7, 5.1, 1.9],\n",
              "       [6.2, 2.9, 4.3, 1.3],\n",
              "       [7.7, 3. , 6.1, 2.3],\n",
              "       [6.3, 2.3, 4.4, 1.3],\n",
              "       [6.1, 3. , 4.9, 1.8],\n",
              "       [4.6, 3.1, 1.5, 0.2],\n",
              "       [4.4, 3.2, 1.3, 0.2],\n",
              "       [6.7, 3.1, 5.6, 2.4],\n",
              "       [4.4, 2.9, 1.4, 0.2],\n",
              "       [6.3, 2.8, 5.1, 1.5]])"
            ]
          },
          "metadata": {},
          "execution_count": 4
        }
      ]
    },
    {
      "cell_type": "code",
      "source": [
        "y_train"
      ],
      "metadata": {
        "colab": {
          "base_uri": "https://localhost:8080/"
        },
        "id": "z0ibj0fEhhNs",
        "outputId": "bea72a5b-3635-4a4b-dccf-bd08f88fd55e"
      },
      "execution_count": 5,
      "outputs": [
        {
          "output_type": "execute_result",
          "data": {
            "text/plain": [
              "array([1, 1, 1, 1, 2, 2, 0, 2, 1, 0, 1, 0, 2, 1, 1, 1, 2, 1, 2, 1, 1, 0,\n",
              "       1, 0, 1, 2, 0, 1, 2, 0, 1, 2, 2, 1, 2, 2, 1, 1, 0, 0, 0, 1, 1, 2,\n",
              "       1, 1, 2, 2, 1, 2, 1, 0, 1, 0, 2, 1, 1, 0, 0, 2, 1, 2, 0, 2, 1, 0,\n",
              "       2, 1, 1, 1, 1, 2, 1, 0, 0, 0, 2, 2, 2, 0, 2, 0, 0, 2, 2, 0, 1, 0,\n",
              "       0, 2, 1, 0, 0, 2, 2, 0, 2, 0, 2, 1, 0, 0, 0, 0, 1, 2, 0, 1, 0, 2,\n",
              "       1, 1, 2, 0, 1, 2, 2, 0, 0, 0])"
            ]
          },
          "metadata": {},
          "execution_count": 5
        }
      ]
    },
    {
      "cell_type": "code",
      "source": [
        "model = Pipeline([('scaler',StandardScaler()),('pca',PCA(n_components=2)),('regl',LogisticRegression(random_state=42))])"
      ],
      "metadata": {
        "id": "40lvYd_EhjqW"
      },
      "execution_count": 6,
      "outputs": []
    },
    {
      "cell_type": "code",
      "source": [
        "model_2 = make_pipeline(StandardScaler(),PCA(n_components=2),(LogisticRegression(random_state=42)))"
      ],
      "metadata": {
        "id": "oPL5xhXZhmae"
      },
      "execution_count": 7,
      "outputs": []
    },
    {
      "cell_type": "code",
      "source": [
        "model.steps[0]"
      ],
      "metadata": {
        "colab": {
          "base_uri": "https://localhost:8080/"
        },
        "id": "d20q7vqihrkc",
        "outputId": "23070db3-36d7-4916-a942-94b302a1f02d"
      },
      "execution_count": 8,
      "outputs": [
        {
          "output_type": "execute_result",
          "data": {
            "text/plain": [
              "('scaler', StandardScaler())"
            ]
          },
          "metadata": {},
          "execution_count": 8
        }
      ]
    },
    {
      "cell_type": "code",
      "source": [
        "model_2.steps[0]"
      ],
      "metadata": {
        "colab": {
          "base_uri": "https://localhost:8080/"
        },
        "id": "t1mMdJBbhtff",
        "outputId": "1901a5af-bf27-47cc-ef60-beb60b437f41"
      },
      "execution_count": 9,
      "outputs": [
        {
          "output_type": "execute_result",
          "data": {
            "text/plain": [
              "('standardscaler', StandardScaler())"
            ]
          },
          "metadata": {},
          "execution_count": 9
        }
      ]
    },
    {
      "cell_type": "code",
      "source": [
        "model['regl']"
      ],
      "metadata": {
        "colab": {
          "base_uri": "https://localhost:8080/"
        },
        "id": "SNDIBxdEhzvy",
        "outputId": "ae91f616-1fb3-46f0-9f04-1d0a4adf2ea3"
      },
      "execution_count": 10,
      "outputs": [
        {
          "output_type": "execute_result",
          "data": {
            "text/plain": [
              "LogisticRegression(random_state=42)"
            ]
          },
          "metadata": {},
          "execution_count": 10
        }
      ]
    },
    {
      "cell_type": "code",
      "source": [
        "model.set_params()"
      ],
      "metadata": {
        "colab": {
          "base_uri": "https://localhost:8080/"
        },
        "id": "olYu_wHGh1CV",
        "outputId": "9f6eeecc-a133-44d7-d6bf-1814c8d49a66"
      },
      "execution_count": 11,
      "outputs": [
        {
          "output_type": "execute_result",
          "data": {
            "text/plain": [
              "Pipeline(steps=[('scaler', StandardScaler()), ('pca', PCA(n_components=2)),\n",
              "                ('regl', LogisticRegression(random_state=42))])"
            ]
          },
          "metadata": {},
          "execution_count": 11
        }
      ]
    },
    {
      "cell_type": "code",
      "source": [
        "model.fit(X_train,y_train)"
      ],
      "metadata": {
        "colab": {
          "base_uri": "https://localhost:8080/"
        },
        "id": "10LWtYy3h4Ts",
        "outputId": "3fb4df54-ebc6-4c96-b9c3-4dc8874aff95"
      },
      "execution_count": 12,
      "outputs": [
        {
          "output_type": "execute_result",
          "data": {
            "text/plain": [
              "Pipeline(steps=[('scaler', StandardScaler()), ('pca', PCA(n_components=2)),\n",
              "                ('regl', LogisticRegression(random_state=42))])"
            ]
          },
          "metadata": {},
          "execution_count": 12
        }
      ]
    },
    {
      "cell_type": "code",
      "source": [
        "y_h = model.predict(X_test)"
      ],
      "metadata": {
        "id": "XJ5chcgFh6Q9"
      },
      "execution_count": 13,
      "outputs": []
    },
    {
      "cell_type": "code",
      "source": [
        "model.score(X_test,y_test)"
      ],
      "metadata": {
        "colab": {
          "base_uri": "https://localhost:8080/"
        },
        "id": "y1R1kuJ9h71H",
        "outputId": "2101f9dc-a894-4d84-c07e-05a35cf2cb91"
      },
      "execution_count": 14,
      "outputs": [
        {
          "output_type": "execute_result",
          "data": {
            "text/plain": [
              "0.8666666666666667"
            ]
          },
          "metadata": {},
          "execution_count": 14
        }
      ]
    },
    {
      "cell_type": "code",
      "source": [],
      "metadata": {
        "id": "qr7U60BCiMTH"
      },
      "execution_count": 14,
      "outputs": []
    },
    {
      "cell_type": "markdown",
      "source": [
        "Con ayuda del pipeline de sklearn, construir uno de forma tal qué, escale mis datos, reduzca mi dimensión (dimensión 2) y aplique un clasificador de arbol de decisión (DecisionTreeClassifier) al iris data set, donde a este último solo le pondremos como parámetro el random_state=42. Entrenarlo y evaluarlo."
      ],
      "metadata": {
        "id": "IDjJJVJ2ig9z"
      }
    },
    {
      "cell_type": "code",
      "source": [
        "modelo = Pipeline([('scaler',StandardScaler()),('pca',PCA(n_components=2)),('des_tree',DecisionTreeClassifier(random_state=42))])"
      ],
      "metadata": {
        "id": "eQhbdjATh9gO"
      },
      "execution_count": 15,
      "outputs": []
    },
    {
      "cell_type": "code",
      "source": [
        "modelo"
      ],
      "metadata": {
        "colab": {
          "base_uri": "https://localhost:8080/"
        },
        "id": "ReE5Gmomin9M",
        "outputId": "3c14f082-3e70-4def-c444-7aa0c7dc79ba"
      },
      "execution_count": 16,
      "outputs": [
        {
          "output_type": "execute_result",
          "data": {
            "text/plain": [
              "Pipeline(steps=[('scaler', StandardScaler()), ('pca', PCA(n_components=2)),\n",
              "                ('des_tree', DecisionTreeClassifier(random_state=42))])"
            ]
          },
          "metadata": {},
          "execution_count": 16
        }
      ]
    },
    {
      "cell_type": "code",
      "source": [
        "modelo.steps[0]"
      ],
      "metadata": {
        "colab": {
          "base_uri": "https://localhost:8080/"
        },
        "id": "o4IvOmpWio0r",
        "outputId": "2d45e42a-1cf9-43be-9b46-1e26a4785536"
      },
      "execution_count": 17,
      "outputs": [
        {
          "output_type": "execute_result",
          "data": {
            "text/plain": [
              "('scaler', StandardScaler())"
            ]
          },
          "metadata": {},
          "execution_count": 17
        }
      ]
    },
    {
      "cell_type": "code",
      "source": [
        "modelo.steps[1]"
      ],
      "metadata": {
        "colab": {
          "base_uri": "https://localhost:8080/"
        },
        "id": "yXi9h9s_irj3",
        "outputId": "2cc4f201-9e44-468f-9e48-6850b0669cb9"
      },
      "execution_count": 18,
      "outputs": [
        {
          "output_type": "execute_result",
          "data": {
            "text/plain": [
              "('pca', PCA(n_components=2))"
            ]
          },
          "metadata": {},
          "execution_count": 18
        }
      ]
    },
    {
      "cell_type": "code",
      "source": [
        "modelo.steps[2]"
      ],
      "metadata": {
        "colab": {
          "base_uri": "https://localhost:8080/"
        },
        "id": "TSxSsAbfitM_",
        "outputId": "e8780593-d951-47d7-dc1c-980c16ba3d19"
      },
      "execution_count": 19,
      "outputs": [
        {
          "output_type": "execute_result",
          "data": {
            "text/plain": [
              "('des_tree', DecisionTreeClassifier(random_state=42))"
            ]
          },
          "metadata": {},
          "execution_count": 19
        }
      ]
    },
    {
      "cell_type": "code",
      "source": [
        "modelo.set_params()"
      ],
      "metadata": {
        "colab": {
          "base_uri": "https://localhost:8080/"
        },
        "id": "H389v8YUiuNb",
        "outputId": "0f82af6b-b526-4902-e37c-96673058014d"
      },
      "execution_count": 20,
      "outputs": [
        {
          "output_type": "execute_result",
          "data": {
            "text/plain": [
              "Pipeline(steps=[('scaler', StandardScaler()), ('pca', PCA(n_components=2)),\n",
              "                ('des_tree', DecisionTreeClassifier(random_state=42))])"
            ]
          },
          "metadata": {},
          "execution_count": 20
        }
      ]
    },
    {
      "cell_type": "code",
      "source": [
        "modelo.fit(X_train,y_train)"
      ],
      "metadata": {
        "colab": {
          "base_uri": "https://localhost:8080/"
        },
        "id": "xF6Xh4J-ivde",
        "outputId": "60ca56d4-6c40-4b25-d435-e7472ba4f380"
      },
      "execution_count": 21,
      "outputs": [
        {
          "output_type": "execute_result",
          "data": {
            "text/plain": [
              "Pipeline(steps=[('scaler', StandardScaler()), ('pca', PCA(n_components=2)),\n",
              "                ('des_tree', DecisionTreeClassifier(random_state=42))])"
            ]
          },
          "metadata": {},
          "execution_count": 21
        }
      ]
    },
    {
      "cell_type": "code",
      "source": [
        "y_H = modelo.predict(X_test)"
      ],
      "metadata": {
        "id": "iDagBZdAi9pG"
      },
      "execution_count": 22,
      "outputs": []
    },
    {
      "cell_type": "code",
      "source": [
        "modelo.score(X_test,y_test)"
      ],
      "metadata": {
        "colab": {
          "base_uri": "https://localhost:8080/"
        },
        "id": "SuL-ebFQjIOU",
        "outputId": "b0956b8f-d83e-4a0d-b8fa-cfc2a57a5ce3"
      },
      "execution_count": 23,
      "outputs": [
        {
          "output_type": "execute_result",
          "data": {
            "text/plain": [
              "0.8666666666666667"
            ]
          },
          "metadata": {},
          "execution_count": 23
        }
      ]
    },
    {
      "cell_type": "code",
      "source": [],
      "metadata": {
        "id": "Ie479QtLjK5r"
      },
      "execution_count": 23,
      "outputs": []
    }
  ]
}